{
  "nbformat": 4,
  "nbformat_minor": 0,
  "metadata": {
    "colab": {
      "provenance": []
    },
    "kernelspec": {
      "name": "python3",
      "display_name": "Python 3"
    },
    "language_info": {
      "name": "python"
    }
  },
  "cells": [
    {
      "cell_type": "markdown",
      "source": [
        "## Data Type and structues (Theory Questions)"
      ],
      "metadata": {
        "id": "9Tqo05CP0lb2"
      }
    },
    {
      "cell_type": "markdown",
      "source": [
        "Q 1 What are data structures, and why are they important\n",
        "\n",
        "  Ans -> It is a way of organising and  storing data so that it can be accessed as well as manipulated when needed, effectively. In simple language it can be said that the data structures are the containers of different kind of data.\n",
        "\n",
        "  Importance of data structures\n",
        "\n",
        "  - it makes the code more easier to understand\n",
        "  - it makes the code more efficient\n",
        "  - helps in manipulating data easily when neccessary"
      ],
      "metadata": {
        "id": "3_6flTHZ0gRY"
      }
    },
    {
      "cell_type": "markdown",
      "source": [
        "Q2  Explain the difference between mutable and immutable data types with examples\n",
        "\n",
        "  Ans -> Mutable data types mean those data types that can be changes after they have been created.\n",
        "\n",
        "  while\n",
        "\n",
        "  immutable data types are those which cannot be changed once created.\n",
        "\n",
        "  example-> mutable - list[ ], dictionary{a:b}\n",
        "\n",
        "  immutable string\" \", Tuple()\n",
        "\n",
        "  List1=[1,5,7,\"harry\"]\n",
        "\n",
        "  tuple1=(1,5,7,\"harry\")\n",
        "\n",
        "  The content are same in both list and tuple but only in list changes can be made, showing mutablity in list and immutablity in tuple"
      ],
      "metadata": {
        "id": "DJXYGuYE0y2u"
      }
    },
    {
      "cell_type": "markdown",
      "source": [
        "Q3 What are the main differences between lists and tuples in Python\n",
        "\n",
        "  Ans -> Them ajor difference between a list and tuple is that the list once created can be changed but tuples cannot be changed. Hence list are known as mutable(allowing change) data type while tuple are known as immutable(doesnt allowing change) data type.\n",
        "\n",
        "  In case of syntax list uses square brackets [ ] while tuples use round brackets ( )\n",
        "\n",
        "  Due to its mutability list has more built in functions like .append .pop etc than tuple"
      ],
      "metadata": {
        "id": "LQXlw7bW04Dz"
      }
    },
    {
      "cell_type": "markdown",
      "source": [
        "Q 4 Describe how dictionaries store data\n",
        "\n",
        "  Ans -> The dictionaries are made in a combination of two elements namely key and values pair. The dictionary's syntax is in the form of \"dict\"={\"key\" = \"value1\", ...}\n",
        "\n",
        "  For every key there is a value stored in the pythons memory. The index for that value is the key. If we have to retrieve a certain value we need to access it through its key.\n",
        "\n",
        "  to achieve value1 in the above example we need to get it through its key\n",
        "\n",
        "  print(dict[\"key1\"])\n",
        "\n",
        "  the answer will be value1"
      ],
      "metadata": {
        "id": "CDbjq4fW09Do"
      }
    },
    {
      "cell_type": "markdown",
      "source": [
        "Q5 Why might you use a set instead of a list in Python\n",
        "\n",
        "  Ans-> We might use set instead of list to achieve the unique values. A set cant store duplicate values while a list can. So if in a real use example if we want to know all the unique things we must use set.\n",
        "\n",
        "  Also set is immutable while list is mutable. So in a senario where anyones personal information is required, set will contain the unique information of invidual (no repitations of info) with being immutable (no one can tamper the information)."
      ],
      "metadata": {
        "id": "lZFOZQcM1Fa2"
      }
    },
    {
      "cell_type": "markdown",
      "source": [
        "Q6 What is a string in Python, and how is it different from a list\n",
        "\n",
        "  Ans-> A string is a sequence of characters enclosed in either single quotes ('') or double quotes (“”). example - \"Hello World\"\n",
        "\n",
        "  Python strings are also known as a collection of unicode characters, beacuse it stores data as a combination of 0s & 1s using ASCHII or Unicode character.\n",
        "\n",
        "  Strings are immutable, meaning their values cannot be changed once they are created while list are mutable. While both lists and strings can be accessed using indexing and slicing,\n",
        "  \n",
        "  but lists provide more flexibility as they can be modified, appended, or extended, while strings cannot be altered after creation.\n",
        "\n",
        "  A list is an ordered collection of items, where each item can be of any data type. On the contrary, a string is an ordered collection of characters."
      ],
      "metadata": {
        "id": "I4i_uhRm1Ie5"
      }
    },
    {
      "cell_type": "markdown",
      "source": [
        "Q7  How do tuples ensure data integrity in Python.\n",
        "\n",
        "  Ans-> Tuples are immutable data type and hence they ensure that their contents remain constant throughout their lifecycle, guaranteeing data integrity and reliability.\n",
        "\n",
        "  Once created the data inside a tuple cannot be changed. Saving someone private information can be done in tuple as it cannot be changed by anyone. Hence it guarantees integrity."
      ],
      "metadata": {
        "id": "NQVKhimz1MoD"
      }
    },
    {
      "cell_type": "markdown",
      "source": [
        "Q8  What is a hash table, and how does it relate to dictionaries in Python\n",
        "\n",
        "  Ans-> A Hash Table in Python is a data structure where data is stored in an associative manner. In hash tables, data is stored in an array format, with every data value having an exclusive or unique index value. This type of storage offers quick access to data if the index of the data required is available.\n",
        "\n",
        "  It is simillar to a dictionary as it also has a key paired to a certain value.\n",
        "  For retrieving the value, key which is index in hash table is used. Hence it is related to dictionary in python."
      ],
      "metadata": {
        "id": "32nJcc_K1UzB"
      }
    },
    {
      "cell_type": "markdown",
      "source": [
        "Q9 Can lists contain different data types in Python\n",
        "\n",
        "  Ans -> Yes a list can contain different data type within including an integer number, string, Boolean value, dictionary, tuple, and even it can contain another list."
      ],
      "metadata": {
        "id": "qc5-ciYh1bAs"
      }
    },
    {
      "cell_type": "markdown",
      "source": [
        "Q10  Explain why strings are immutable in Python\n",
        "\n",
        "  Ans -> In Python, strings are made immutable so that programmers cannot alter the contents of the object (even by mistake). This avoids unnecessary issues.\n",
        "\n",
        "  The immutability of Python string is very useful as it helps in\n",
        "  - performance optimization,\n",
        "  - safety,\n",
        "  -             ease of use."
      ],
      "metadata": {
        "id": "KY2hS4Ts1e1v"
      }
    },
    {
      "cell_type": "markdown",
      "source": [
        "Q 11 What advantages do dictionaries offer over lists for certain tasks?\n",
        "\n",
        "  Ans-> Finding anything in a long list will be difficult as compared to a dictionary. In dictionary we can use the keyword to find the desired result while in list we have to check one by one.\n",
        "  Also any information specific to specific individual can beassigned using key value pair in dictionry but not in list\n",
        "\n",
        "  If an individual wanted to store all our friend’s cell phone numbers, he could create a list of pairs phone number name but once this list becomes big enough searching this list for a specific phone number will take a lot of time. Better would be if we could index the list by our friend’s name. This is precisely what a dictionary does."
      ],
      "metadata": {
        "id": "GjAu12EWn5N7"
      }
    },
    {
      "cell_type": "markdown",
      "source": [
        "Q 12 Describe a scenario where using a tuple would be preferable over a list\n",
        "\n",
        "  Ans-> There may be some occasions when we don’t want our data to be changed. If we have data that’s not meant to be changed in the first place — such as critical information or records — ywe should choose tuple data type over lists.\n",
        "\n",
        "  Recording someones personal data like name gender place of birth should be stored in a tuple"
      ],
      "metadata": {
        "id": "AygAKr8pn5Kk"
      }
    },
    {
      "cell_type": "markdown",
      "source": [
        "Q13  How do sets handle duplicate values in Python\n",
        "\n",
        "  Ans -> Duplicate values in sets are not considered rather when entered multiple times the set considers the value only once\n",
        "\n",
        "  Set1={1,2,3,4,5,1,2}\n",
        "  \n",
        "  print(set1)\n",
        "\n",
        "  The result will\n",
        "\n",
        "  {1,2,3,4,5}\n",
        "\n"
      ],
      "metadata": {
        "id": "_HSB8CePn5H2"
      }
    },
    {
      "cell_type": "markdown",
      "source": [
        "Q14 How does the “in” keyword work differently for lists and dictionaries\n",
        "\n",
        "  Ans-> The 'in' operator in dictionary is used to check if a 'key' exists in a dictionary. It returns True if the key is present and False if it is not. It doesnt work on value in the dictionary.\n",
        "\n",
        "  while\n",
        "\n",
        "  in a list the 'in' operator is used to check if the given specified item is present in the list among each item of the list\n",
        "\n"
      ],
      "metadata": {
        "id": "nX8bHlZZn5BF"
      }
    },
    {
      "cell_type": "markdown",
      "source": [
        "Q15 Can you modify the elements of a tuple? Explain why or why not\n",
        "\n",
        "  Ans -> No, we cant modify the element of the tuple once created.\n",
        "\n",
        "  It cannot be done because the one of the charactersticks of tuple is that they are immutable."
      ],
      "metadata": {
        "id": "tMuur01tn43f"
      }
    },
    {
      "cell_type": "markdown",
      "source": [
        "Q16 What is a nested dictionary, and give an example of its use case\n",
        "\n",
        "  Ans -> When there is a dictionary inside a dictionary it is known as nested dictionary\n",
        "\n",
        "  For example in an office there are various departments and inside those departments are information regarding department\n",
        "\n",
        "  My_office ={\n",
        "\n",
        "    \"department1\"={\n",
        "    \n",
        "      \"Employees\":32\n",
        "    \n",
        "      \"Established\":1986\n",
        "    \n",
        "      \"Contact\": 556656}\n",
        "  ,\n",
        "    \n",
        "    \"department2\"={\n",
        "    \n",
        "      \"Employees\":42\n",
        "    \n",
        "      \"Established\":1976\n",
        "    \n",
        "      \"Contact\": 556666}\n",
        "  ,\n",
        "    \n",
        "    \"department3\"={\n",
        "    \n",
        "      \"Employees\":38\n",
        "    \n",
        "      \"Established\":1987\n",
        "    \n",
        "      \"Contact\": 554545}\n",
        "    \n",
        "      }\n",
        "\n",
        "  This is example of nested dictionary"
      ],
      "metadata": {
        "id": "9_eAYb-un4rL"
      }
    },
    {
      "cell_type": "markdown",
      "source": [
        "Q17 Describe the time complexity of accessing elements in a dictionary\n",
        "\n",
        "  Ans-> Accessing elementsin a dictionary in Python has an average time complexity of O(1). It means that the time taken to access an element from a dictionary is constant and does not depend on the size of the dictionary."
      ],
      "metadata": {
        "id": "ypPPaevSn4eC"
      }
    },
    {
      "cell_type": "markdown",
      "source": [
        "Q18 In what situations are lists preferred over dictionaries\n",
        "\n",
        " Ans-> In situations where we nee ordered form of data list is to be used. If we know the order of the object we can retrieve the data from the list easily which is not possible in dictionary where the objects are unorganised."
      ],
      "metadata": {
        "id": "yzUWYg0Zn3-E"
      }
    },
    {
      "cell_type": "markdown",
      "source": [
        "Q19 Why are dictionaries considered unordered, and how does that affect data retrieval\n",
        "\n",
        "  Ans -> Dictionaries are considered unordered because thye elements in the dictionary do not have a defined order and also we cant access the elements using an index.\n",
        "\n",
        "  For data retrieval we cannot use index and hence we can only use the key value pair\n",
        "\n",
        "  "
      ],
      "metadata": {
        "id": "PxYpg_fC0fRl"
      }
    },
    {
      "cell_type": "markdown",
      "source": [
        "Q20 Explain the difference between a list and a dictionary in terms of data retrieval\n",
        "\n",
        "  Ans ->\n",
        "  In list as there is a specific order of elements the data retieval is done using the index where we know at what position is the element we require.\n",
        "\n",
        "  list1=[1,3,4,5]\n",
        "\n",
        "  print(list1 [1] ) , here 1 is the index and will give ans 3\n",
        "\n",
        "  while in dictionary the retrieval is done using the key.\n",
        "\n",
        "\n",
        "  office=\n",
        "  {\n",
        "    \n",
        "    chair:4,\n",
        "    \n",
        "    Table:5,\n",
        "    \n",
        "    lights:3\n",
        "  }\n",
        "\n",
        "  To retrieve no of chairs we use\n",
        "\n",
        "  print(office[\"chairs\"])"
      ],
      "metadata": {
        "id": "Me2nqR_Joq4o"
      }
    },
    {
      "cell_type": "markdown",
      "source": [
        "## Practical Questions"
      ],
      "metadata": {
        "id": "83mdIpUStxtv"
      }
    },
    {
      "cell_type": "code",
      "source": [
        "# Q1 Write a code to create a string with your name and print it\n",
        "\n",
        "name1=input(\"Please enter your name : \")\n",
        "print (name1)"
      ],
      "metadata": {
        "id": "qpfYnWV61ENI",
        "colab": {
          "base_uri": "https://localhost:8080/"
        },
        "outputId": "27f2dd6d-89e8-490b-9feb-240d94e48514"
      },
      "execution_count": 11,
      "outputs": [
        {
          "output_type": "stream",
          "name": "stdout",
          "text": [
            "Please enter your name : Fariz Amaan\n",
            "Fariz Amaan\n"
          ]
        }
      ]
    },
    {
      "cell_type": "code",
      "source": [
        "# Q2  Write a code to find the length of the string \"Hello World\"\n",
        "\n",
        "str1=\"Hello World\"\n",
        "len(str1)"
      ],
      "metadata": {
        "colab": {
          "base_uri": "https://localhost:8080/"
        },
        "id": "heM5THuvuYMy",
        "outputId": "8fa5e348-3ba2-43a5-e1cf-2fcbe3b58e92"
      },
      "execution_count": 12,
      "outputs": [
        {
          "output_type": "execute_result",
          "data": {
            "text/plain": [
              "11"
            ]
          },
          "metadata": {},
          "execution_count": 12
        }
      ]
    },
    {
      "cell_type": "code",
      "source": [
        "# Q3 Write a code to slice the first 3 characters from the string \"Python Programming\"\n",
        "str2=\"Python Programming\"\n",
        "str22=str2[0:3]\n",
        "print(str22)"
      ],
      "metadata": {
        "colab": {
          "base_uri": "https://localhost:8080/"
        },
        "id": "yDFnTiGEumrL",
        "outputId": "785fada1-a175-47f6-eae1-df8d51de403b"
      },
      "execution_count": 13,
      "outputs": [
        {
          "output_type": "stream",
          "name": "stdout",
          "text": [
            "Pyt\n"
          ]
        }
      ]
    },
    {
      "cell_type": "code",
      "source": [
        "# Q4 Write a code to convert the string \"hello\" to uppercase\n",
        "\n",
        "str3=\"hello\"\n",
        "print(str3.upper())"
      ],
      "metadata": {
        "colab": {
          "base_uri": "https://localhost:8080/"
        },
        "id": "XPbOPmjUvQJl",
        "outputId": "b84c8303-8c8c-4692-daa0-0242f3f1c9b0"
      },
      "execution_count": 14,
      "outputs": [
        {
          "output_type": "stream",
          "name": "stdout",
          "text": [
            "HELLO\n"
          ]
        }
      ]
    },
    {
      "cell_type": "code",
      "source": [
        "# Q5 Write a code to replace the word \"apple\" with \"orange\" in the string \"I like apple\"\n",
        "\n",
        "str4=\"I like apple\"\n",
        "str44=str4.replace (\"apple\",\"orange\")\n",
        "print(str44)"
      ],
      "metadata": {
        "colab": {
          "base_uri": "https://localhost:8080/"
        },
        "id": "Hbspep4nvePf",
        "outputId": "39d2b6fd-8648-4688-bc87-ddc9899d7e14"
      },
      "execution_count": 15,
      "outputs": [
        {
          "output_type": "stream",
          "name": "stdout",
          "text": [
            "I like orange\n"
          ]
        }
      ]
    },
    {
      "cell_type": "code",
      "source": [
        "# Q6 Write a code to create a list with numbers 1 to 5 and print it\n",
        "\n",
        "list1=list(range(1,6))\n",
        "print(list1)"
      ],
      "metadata": {
        "colab": {
          "base_uri": "https://localhost:8080/"
        },
        "id": "9CqP9gD1v9Bo",
        "outputId": "8ccdc1a5-e894-41b3-89ae-d1289ed872bf"
      },
      "execution_count": 16,
      "outputs": [
        {
          "output_type": "stream",
          "name": "stdout",
          "text": [
            "[1, 2, 3, 4, 5]\n"
          ]
        }
      ]
    },
    {
      "cell_type": "code",
      "source": [
        "# Q7 Write a code to append the number 10 to the list [1, 2, 3, 4]\n",
        "\n",
        "list2=[1, 2, 3, 4]\n",
        "list2.append(10)\n",
        "print(list2)"
      ],
      "metadata": {
        "colab": {
          "base_uri": "https://localhost:8080/"
        },
        "id": "5OwYewEQw2Vw",
        "outputId": "fae99cd0-46ac-4ab3-c18e-cd039de14095"
      },
      "execution_count": 17,
      "outputs": [
        {
          "output_type": "stream",
          "name": "stdout",
          "text": [
            "[1, 2, 3, 4, 10]\n"
          ]
        }
      ]
    },
    {
      "cell_type": "code",
      "source": [
        "# Q8 Write a code to remove the number 3 from the list [1, 2, 3, 4, 5]\n",
        "\n",
        "list3=[1, 2, 3, 4, 5]\n",
        "list3.remove(3)\n",
        "print(list3)"
      ],
      "metadata": {
        "colab": {
          "base_uri": "https://localhost:8080/"
        },
        "id": "ZETiybZuxsqg",
        "outputId": "cc82ec96-09e8-47b5-b88c-8efd8e67e21d"
      },
      "execution_count": 18,
      "outputs": [
        {
          "output_type": "stream",
          "name": "stdout",
          "text": [
            "[1, 2, 4, 5]\n"
          ]
        }
      ]
    },
    {
      "cell_type": "code",
      "source": [
        "# Q9 Write a code to access the second element in the list ['a', 'b', 'c', 'd']\n",
        "\n",
        "list4=['a', 'b', 'c', 'd']\n",
        "print(list4[1])"
      ],
      "metadata": {
        "colab": {
          "base_uri": "https://localhost:8080/"
        },
        "id": "ZONqX_Pcy0mX",
        "outputId": "12dfa4ed-000b-4aa6-9665-3ed4805d2907"
      },
      "execution_count": 19,
      "outputs": [
        {
          "output_type": "stream",
          "name": "stdout",
          "text": [
            "b\n"
          ]
        }
      ]
    },
    {
      "cell_type": "code",
      "source": [
        "# Q10 Write a code to reverse the list [10, 20, 30, 40, 50]\n",
        "\n",
        "list5=[10, 20, 30, 40, 50]\n",
        "list5.reverse()\n",
        "print(list5)"
      ],
      "metadata": {
        "colab": {
          "base_uri": "https://localhost:8080/"
        },
        "id": "tfOTQs6NzGrv",
        "outputId": "99885153-03c4-41a0-9961-571c8d988334"
      },
      "execution_count": 20,
      "outputs": [
        {
          "output_type": "stream",
          "name": "stdout",
          "text": [
            "[50, 40, 30, 20, 10]\n"
          ]
        }
      ]
    },
    {
      "cell_type": "code",
      "source": [
        "# Q11  Write a code to create a tuple with the elements 10, 20, 30 and print it.\n",
        "\n",
        "tup1=(10,20,30)\n",
        "print(tup1)"
      ],
      "metadata": {
        "colab": {
          "base_uri": "https://localhost:8080/"
        },
        "id": "l3HbCwpuznDg",
        "outputId": "148e5a9d-937e-4cdf-f30e-e9ded11d905f"
      },
      "execution_count": 21,
      "outputs": [
        {
          "output_type": "stream",
          "name": "stdout",
          "text": [
            "(10, 20, 30)\n"
          ]
        }
      ]
    },
    {
      "cell_type": "code",
      "source": [
        "# Q12 Write a code to access the first element of the tuple ('apple', 'banana', 'cherry').\n",
        "\n",
        "tup2=('apple', 'banana', 'cherry')\n",
        "tup2[0]"
      ],
      "metadata": {
        "colab": {
          "base_uri": "https://localhost:8080/",
          "height": 36
        },
        "id": "zRlqU4A40DPZ",
        "outputId": "f8c59e25-01b7-420b-f9d6-e230c8576e31"
      },
      "execution_count": 22,
      "outputs": [
        {
          "output_type": "execute_result",
          "data": {
            "text/plain": [
              "'apple'"
            ],
            "application/vnd.google.colaboratory.intrinsic+json": {
              "type": "string"
            }
          },
          "metadata": {},
          "execution_count": 22
        }
      ]
    },
    {
      "cell_type": "code",
      "source": [
        "# Q13  Write a code to count how many times the number 2 appears in the tuple (1, 2, 3, 2, 4, 2)\n",
        "\n",
        "tup3=(1, 2, 3, 2, 4, 2)\n",
        "tup3.count(2)"
      ],
      "metadata": {
        "colab": {
          "base_uri": "https://localhost:8080/"
        },
        "id": "o46C5R7H0Rez",
        "outputId": "1ed7a71f-9d49-4e5e-cf0c-55e069523981"
      },
      "execution_count": 23,
      "outputs": [
        {
          "output_type": "execute_result",
          "data": {
            "text/plain": [
              "3"
            ]
          },
          "metadata": {},
          "execution_count": 23
        }
      ]
    },
    {
      "cell_type": "code",
      "source": [
        "# Q14  Write a code to find the index of the element \"cat\" in the tuple ('dog', 'cat', 'rabbit')\n",
        "\n",
        "tup4=('dog', 'cat', 'rabbit')\n",
        "tup4.index(\"cat\")"
      ],
      "metadata": {
        "colab": {
          "base_uri": "https://localhost:8080/"
        },
        "id": "jCcfYrcf0fdc",
        "outputId": "909188c3-1989-4b19-aefe-a38140fc9b45"
      },
      "execution_count": 24,
      "outputs": [
        {
          "output_type": "execute_result",
          "data": {
            "text/plain": [
              "1"
            ]
          },
          "metadata": {},
          "execution_count": 24
        }
      ]
    },
    {
      "cell_type": "code",
      "source": [
        "# Q15  Write a code to check if the element \"banana\" is in the tuple ('apple', 'orange', 'banana')\n",
        "tup5=('apple', 'orange', 'banana')\n",
        "\"banana\" in tup5"
      ],
      "metadata": {
        "colab": {
          "base_uri": "https://localhost:8080/"
        },
        "id": "x8cT3eoE0sS6",
        "outputId": "73e3e488-b425-4e64-9e39-4a25d67e54f4"
      },
      "execution_count": 25,
      "outputs": [
        {
          "output_type": "execute_result",
          "data": {
            "text/plain": [
              "True"
            ]
          },
          "metadata": {},
          "execution_count": 25
        }
      ]
    },
    {
      "cell_type": "code",
      "source": [
        "# Q 16 Write a code to create a set with the elements 1, 2, 3, 4, 5 and print it.\n",
        "\n",
        "set1={1,2,3,4,5}\n",
        "print(set1)\n"
      ],
      "metadata": {
        "colab": {
          "base_uri": "https://localhost:8080/"
        },
        "id": "wFdndrmL09Au",
        "outputId": "a0cca0dc-3ef3-487f-df0f-0427930a7830"
      },
      "execution_count": 26,
      "outputs": [
        {
          "output_type": "stream",
          "name": "stdout",
          "text": [
            "{1, 2, 3, 4, 5}\n"
          ]
        }
      ]
    },
    {
      "cell_type": "code",
      "source": [
        "# Q17 Write a code to add the element 6 to the set {1, 2, 3, 4}.\n",
        "\n",
        "set2={1, 2, 3, 4}\n",
        "set2.add(6)\n",
        "print(set2)"
      ],
      "metadata": {
        "colab": {
          "base_uri": "https://localhost:8080/"
        },
        "id": "6Xj1zaSz1PbR",
        "outputId": "aeeeeda9-acfb-498f-f591-9fd49fb55e91"
      },
      "execution_count": 27,
      "outputs": [
        {
          "output_type": "stream",
          "name": "stdout",
          "text": [
            "{1, 2, 3, 4, 6}\n"
          ]
        }
      ]
    },
    {
      "cell_type": "code",
      "source": [
        "# Q18  Write a code to create a tuple with the elements 10, 20, 30 and print it.\n",
        "\n",
        "tup6=(10,20,30)\n",
        "print(tup6)"
      ],
      "metadata": {
        "colab": {
          "base_uri": "https://localhost:8080/"
        },
        "id": "zsyl0miW1ePx",
        "outputId": "9dbfdae4-e2b0-4c2b-df67-52775f3b0364"
      },
      "execution_count": 28,
      "outputs": [
        {
          "output_type": "stream",
          "name": "stdout",
          "text": [
            "(10, 20, 30)\n"
          ]
        }
      ]
    },
    {
      "cell_type": "code",
      "source": [
        "# Q19 Write a code to access the first element of the tuple ('apple', 'banana', 'cherry').\n",
        "\n",
        "tup7=('apple', 'banana', 'cherry')\n",
        "tup7[0]"
      ],
      "metadata": {
        "colab": {
          "base_uri": "https://localhost:8080/",
          "height": 36
        },
        "id": "Zw9ah1nwo2bY",
        "outputId": "d1d2befc-ff64-4e8e-c7e9-c9d560023699"
      },
      "execution_count": 29,
      "outputs": [
        {
          "output_type": "execute_result",
          "data": {
            "text/plain": [
              "'apple'"
            ],
            "application/vnd.google.colaboratory.intrinsic+json": {
              "type": "string"
            }
          },
          "metadata": {},
          "execution_count": 29
        }
      ]
    },
    {
      "cell_type": "code",
      "source": [
        "# Q20  Write a code to count how many times the number 2 appears in the tuple (1, 2, 3, 2, 4, 2)\n",
        "\n",
        "tup8=(1, 2, 3, 2, 4, 2)\n",
        "tup8.count(2)"
      ],
      "metadata": {
        "colab": {
          "base_uri": "https://localhost:8080/"
        },
        "id": "s_YGpfZxptid",
        "outputId": "92be25c1-b03d-4226-b784-d78ab0b6b843"
      },
      "execution_count": 30,
      "outputs": [
        {
          "output_type": "execute_result",
          "data": {
            "text/plain": [
              "3"
            ]
          },
          "metadata": {},
          "execution_count": 30
        }
      ]
    },
    {
      "cell_type": "code",
      "source": [
        "# Q21  Write a code to find the index of the element \"cat\" in the tuple ('dog', 'cat', 'rabbit')\n",
        "\n",
        "tup9=('dog', 'cat', 'rabbit')\n",
        "tup9.index(\"cat\")"
      ],
      "metadata": {
        "colab": {
          "base_uri": "https://localhost:8080/"
        },
        "id": "iI1No-M2pv6-",
        "outputId": "4e5f8d12-1746-493a-9ab1-33a019981ca6"
      },
      "execution_count": 31,
      "outputs": [
        {
          "output_type": "execute_result",
          "data": {
            "text/plain": [
              "1"
            ]
          },
          "metadata": {},
          "execution_count": 31
        }
      ]
    },
    {
      "cell_type": "code",
      "source": [
        "# Q22  Write a code to check if the element \"banana\" is in the tuple ('apple', 'orange', 'banana')\n",
        "tup10=('apple', 'orange', 'banana')\n",
        "\"banana\" in tup10"
      ],
      "metadata": {
        "colab": {
          "base_uri": "https://localhost:8080/"
        },
        "id": "a-Hv-VqJp5YR",
        "outputId": "9b54e7af-2348-40c4-8e75-3d08aa5315eb"
      },
      "execution_count": 32,
      "outputs": [
        {
          "output_type": "execute_result",
          "data": {
            "text/plain": [
              "True"
            ]
          },
          "metadata": {},
          "execution_count": 32
        }
      ]
    },
    {
      "cell_type": "code",
      "source": [
        "# Q23 Write a code to create a set with the elements 1, 2, 3, 4, 5 and print it.\n",
        "\n",
        "set3={1,2,3,4,5}\n",
        "print(set3)\n"
      ],
      "metadata": {
        "colab": {
          "base_uri": "https://localhost:8080/"
        },
        "id": "dDxx9MODqF5j",
        "outputId": "f2326455-317e-4c53-8eff-b52c7274d6c7"
      },
      "execution_count": 33,
      "outputs": [
        {
          "output_type": "stream",
          "name": "stdout",
          "text": [
            "{1, 2, 3, 4, 5}\n"
          ]
        }
      ]
    },
    {
      "cell_type": "code",
      "source": [
        "# Q24 Write a code to add the element 6 to the set {1, 2, 3, 4}.\n",
        "\n",
        "set4={1, 2, 3, 4}\n",
        "set4.add(6)\n",
        "print(set4)"
      ],
      "metadata": {
        "colab": {
          "base_uri": "https://localhost:8080/"
        },
        "id": "OIwIpTZ8qRKT",
        "outputId": "5fb84f6c-5969-4d0d-c9f1-8ecaf0a40dce"
      },
      "execution_count": 34,
      "outputs": [
        {
          "output_type": "stream",
          "name": "stdout",
          "text": [
            "{1, 2, 3, 4, 6}\n"
          ]
        }
      ]
    },
    {
      "cell_type": "code",
      "source": [],
      "metadata": {
        "id": "bBwpa4zxqYu1"
      },
      "execution_count": null,
      "outputs": []
    }
  ]
}